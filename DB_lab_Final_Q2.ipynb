{
 "cells": [
  {
   "cell_type": "markdown",
   "id": "aef608fe",
   "metadata": {},
   "source": [
    "## Mehrshad Saadatinia - 97243039"
   ]
  },
  {
   "cell_type": "code",
   "execution_count": 1,
   "id": "420f6a6d",
   "metadata": {},
   "outputs": [],
   "source": [
    "import pandas as pd\n",
    "import sqlite3 as sql\n",
    "import math"
   ]
  },
  {
   "cell_type": "code",
   "execution_count": 10,
   "id": "a98e997a",
   "metadata": {},
   "outputs": [
    {
     "name": "stdout",
     "output_type": "stream",
     "text": [
      "<sqlite3.Connection object at 0x00000284C0239120>\n"
     ]
    }
   ],
   "source": [
    "try:\n",
    "    conn2 = sql.connect('population_data.db')\n",
    "    print(conn2)\n",
    "except sql.Error as error:\n",
    "    print('connection error occurred')"
   ]
  },
  {
   "cell_type": "code",
   "execution_count": 11,
   "id": "11a116c2",
   "metadata": {},
   "outputs": [],
   "source": [
    "cursor2 = conn2.cursor() #population"
   ]
  },
  {
   "cell_type": "code",
   "execution_count": 13,
   "id": "e1d2eb0b",
   "metadata": {},
   "outputs": [
    {
     "data": {
      "text/plain": [
       "[('sqlite_sequence',), ('facts',)]"
      ]
     },
     "execution_count": 13,
     "metadata": {},
     "output_type": "execute_result"
    }
   ],
   "source": [
    "cursor2.execute(\"SELECT name FROM sqlite_master WHERE type='table';\")\n",
    "cursor2.fetchall()"
   ]
  },
  {
   "cell_type": "code",
   "execution_count": 22,
   "id": "c41e2043",
   "metadata": {
    "scrolled": true
   },
   "outputs": [
    {
     "data": {
      "text/html": [
       "<div>\n",
       "<style scoped>\n",
       "    .dataframe tbody tr th:only-of-type {\n",
       "        vertical-align: middle;\n",
       "    }\n",
       "\n",
       "    .dataframe tbody tr th {\n",
       "        vertical-align: top;\n",
       "    }\n",
       "\n",
       "    .dataframe thead th {\n",
       "        text-align: right;\n",
       "    }\n",
       "</style>\n",
       "<table border=\"1\" class=\"dataframe\">\n",
       "  <thead>\n",
       "    <tr style=\"text-align: right;\">\n",
       "      <th></th>\n",
       "      <th>id</th>\n",
       "      <th>code</th>\n",
       "      <th>name</th>\n",
       "      <th>area</th>\n",
       "      <th>area_land</th>\n",
       "      <th>area_water</th>\n",
       "      <th>population</th>\n",
       "      <th>population_growth</th>\n",
       "      <th>birth_rate</th>\n",
       "      <th>death_rate</th>\n",
       "      <th>migration_rate</th>\n",
       "    </tr>\n",
       "  </thead>\n",
       "  <tbody>\n",
       "    <tr>\n",
       "      <th>0</th>\n",
       "      <td>1</td>\n",
       "      <td>af</td>\n",
       "      <td>Afghanistan</td>\n",
       "      <td>652230.0</td>\n",
       "      <td>652230.0</td>\n",
       "      <td>0.0</td>\n",
       "      <td>3.256434e+07</td>\n",
       "      <td>2.32</td>\n",
       "      <td>38.57</td>\n",
       "      <td>13.89</td>\n",
       "      <td>1.51</td>\n",
       "    </tr>\n",
       "    <tr>\n",
       "      <th>1</th>\n",
       "      <td>2</td>\n",
       "      <td>al</td>\n",
       "      <td>Albania</td>\n",
       "      <td>28748.0</td>\n",
       "      <td>27398.0</td>\n",
       "      <td>1350.0</td>\n",
       "      <td>3.029278e+06</td>\n",
       "      <td>0.30</td>\n",
       "      <td>12.92</td>\n",
       "      <td>6.58</td>\n",
       "      <td>3.30</td>\n",
       "    </tr>\n",
       "    <tr>\n",
       "      <th>2</th>\n",
       "      <td>3</td>\n",
       "      <td>ag</td>\n",
       "      <td>Algeria</td>\n",
       "      <td>2381741.0</td>\n",
       "      <td>2381741.0</td>\n",
       "      <td>0.0</td>\n",
       "      <td>3.954217e+07</td>\n",
       "      <td>1.84</td>\n",
       "      <td>23.67</td>\n",
       "      <td>4.31</td>\n",
       "      <td>0.92</td>\n",
       "    </tr>\n",
       "    <tr>\n",
       "      <th>3</th>\n",
       "      <td>4</td>\n",
       "      <td>an</td>\n",
       "      <td>Andorra</td>\n",
       "      <td>468.0</td>\n",
       "      <td>468.0</td>\n",
       "      <td>0.0</td>\n",
       "      <td>8.558000e+04</td>\n",
       "      <td>0.12</td>\n",
       "      <td>8.13</td>\n",
       "      <td>6.96</td>\n",
       "      <td>0.00</td>\n",
       "    </tr>\n",
       "    <tr>\n",
       "      <th>4</th>\n",
       "      <td>5</td>\n",
       "      <td>ao</td>\n",
       "      <td>Angola</td>\n",
       "      <td>1246700.0</td>\n",
       "      <td>1246700.0</td>\n",
       "      <td>0.0</td>\n",
       "      <td>1.962535e+07</td>\n",
       "      <td>2.78</td>\n",
       "      <td>38.78</td>\n",
       "      <td>11.49</td>\n",
       "      <td>0.46</td>\n",
       "    </tr>\n",
       "    <tr>\n",
       "      <th>...</th>\n",
       "      <td>...</td>\n",
       "      <td>...</td>\n",
       "      <td>...</td>\n",
       "      <td>...</td>\n",
       "      <td>...</td>\n",
       "      <td>...</td>\n",
       "      <td>...</td>\n",
       "      <td>...</td>\n",
       "      <td>...</td>\n",
       "      <td>...</td>\n",
       "      <td>...</td>\n",
       "    </tr>\n",
       "    <tr>\n",
       "      <th>256</th>\n",
       "      <td>257</td>\n",
       "      <td>zh</td>\n",
       "      <td>Atlantic Ocean</td>\n",
       "      <td>NaN</td>\n",
       "      <td>NaN</td>\n",
       "      <td>NaN</td>\n",
       "      <td>NaN</td>\n",
       "      <td>NaN</td>\n",
       "      <td>NaN</td>\n",
       "      <td>NaN</td>\n",
       "      <td>NaN</td>\n",
       "    </tr>\n",
       "    <tr>\n",
       "      <th>257</th>\n",
       "      <td>258</td>\n",
       "      <td>xo</td>\n",
       "      <td>Indian Ocean</td>\n",
       "      <td>NaN</td>\n",
       "      <td>NaN</td>\n",
       "      <td>NaN</td>\n",
       "      <td>NaN</td>\n",
       "      <td>NaN</td>\n",
       "      <td>NaN</td>\n",
       "      <td>NaN</td>\n",
       "      <td>NaN</td>\n",
       "    </tr>\n",
       "    <tr>\n",
       "      <th>258</th>\n",
       "      <td>259</td>\n",
       "      <td>zn</td>\n",
       "      <td>Pacific Ocean</td>\n",
       "      <td>NaN</td>\n",
       "      <td>NaN</td>\n",
       "      <td>NaN</td>\n",
       "      <td>NaN</td>\n",
       "      <td>NaN</td>\n",
       "      <td>NaN</td>\n",
       "      <td>NaN</td>\n",
       "      <td>NaN</td>\n",
       "    </tr>\n",
       "    <tr>\n",
       "      <th>259</th>\n",
       "      <td>260</td>\n",
       "      <td>oo</td>\n",
       "      <td>Southern Ocean</td>\n",
       "      <td>NaN</td>\n",
       "      <td>NaN</td>\n",
       "      <td>NaN</td>\n",
       "      <td>NaN</td>\n",
       "      <td>NaN</td>\n",
       "      <td>NaN</td>\n",
       "      <td>NaN</td>\n",
       "      <td>NaN</td>\n",
       "    </tr>\n",
       "    <tr>\n",
       "      <th>260</th>\n",
       "      <td>261</td>\n",
       "      <td>xx</td>\n",
       "      <td>World</td>\n",
       "      <td>NaN</td>\n",
       "      <td>NaN</td>\n",
       "      <td>NaN</td>\n",
       "      <td>7.256490e+09</td>\n",
       "      <td>1.08</td>\n",
       "      <td>18.60</td>\n",
       "      <td>7.80</td>\n",
       "      <td>NaN</td>\n",
       "    </tr>\n",
       "  </tbody>\n",
       "</table>\n",
       "<p>261 rows × 11 columns</p>\n",
       "</div>"
      ],
      "text/plain": [
       "      id code            name       area  area_land  area_water    population  \\\n",
       "0      1   af     Afghanistan   652230.0   652230.0         0.0  3.256434e+07   \n",
       "1      2   al         Albania    28748.0    27398.0      1350.0  3.029278e+06   \n",
       "2      3   ag         Algeria  2381741.0  2381741.0         0.0  3.954217e+07   \n",
       "3      4   an         Andorra      468.0      468.0         0.0  8.558000e+04   \n",
       "4      5   ao          Angola  1246700.0  1246700.0         0.0  1.962535e+07   \n",
       "..   ...  ...             ...        ...        ...         ...           ...   \n",
       "256  257   zh  Atlantic Ocean        NaN        NaN         NaN           NaN   \n",
       "257  258   xo    Indian Ocean        NaN        NaN         NaN           NaN   \n",
       "258  259   zn   Pacific Ocean        NaN        NaN         NaN           NaN   \n",
       "259  260   oo  Southern Ocean        NaN        NaN         NaN           NaN   \n",
       "260  261   xx           World        NaN        NaN         NaN  7.256490e+09   \n",
       "\n",
       "     population_growth  birth_rate  death_rate  migration_rate  \n",
       "0                 2.32       38.57       13.89            1.51  \n",
       "1                 0.30       12.92        6.58            3.30  \n",
       "2                 1.84       23.67        4.31            0.92  \n",
       "3                 0.12        8.13        6.96            0.00  \n",
       "4                 2.78       38.78       11.49            0.46  \n",
       "..                 ...         ...         ...             ...  \n",
       "256                NaN         NaN         NaN             NaN  \n",
       "257                NaN         NaN         NaN             NaN  \n",
       "258                NaN         NaN         NaN             NaN  \n",
       "259                NaN         NaN         NaN             NaN  \n",
       "260               1.08       18.60        7.80             NaN  \n",
       "\n",
       "[261 rows x 11 columns]"
      ]
     },
     "execution_count": 22,
     "metadata": {},
     "output_type": "execute_result"
    }
   ],
   "source": [
    "pd.read_sql(\"SELECT * FROM facts;\", conn2)"
   ]
  },
  {
   "cell_type": "markdown",
   "id": "86570482",
   "metadata": {},
   "source": [
    "### Question 2:  population analysis"
   ]
  },
  {
   "cell_type": "code",
   "execution_count": 62,
   "id": "2e579a8a",
   "metadata": {
    "scrolled": false
   },
   "outputs": [
    {
     "name": "stdout",
     "output_type": "stream",
     "text": [
      "one)\n",
      "\n",
      "max population belong to China with 1367485388\n",
      "min population belong to Pitcairn Islands with 48\n",
      "--------------------------------------------------------------\n",
      "\n",
      "two)\n",
      "\n",
      "max population growth belong to South Sudan with 4.02\n",
      "--------------------------------------------------------------\n",
      "\n",
      "three)\n",
      "\n",
      "max population density belong to Macau with 21168\n",
      "min population density belong to Greenland with 0.026653143042335344\n",
      "--------------------------------------------------------------\n",
      "\n",
      "four)\n",
      "\n",
      "top 10 most migration rate belongs to [('Qatar', 22.39), ('American Samoa', 21.13), ('Micronesia, Federated States of', 20.93), ('Syria', 19.79), ('Tonga', 17.84), ('British Virgin Islands', 17.28), ('Luxembourg', 17.16), ('Cayman Islands', 14.4), ('Singapore', 14.05), ('Nauru', 13.63)]\n",
      "--------------------------------------------------------------\n",
      "\n",
      "five)\n",
      "\n",
      "top 5 most birth_death rate belongs to [('Gaza Strip', 10.233552631578947), ('Kuwait', 9.133027522935778), ('Iraq', 8.342175066312997), ('United Arab Emirates', 7.83248730964467), ('Oman', 7.273809523809525)]\n"
     ]
    }
   ],
   "source": [
    "#one \n",
    "max_pop = pd.read_sql(\"SELECT name, MAX(population) FROM facts WHERE name<>'World';\", conn2)\n",
    "min_pop = pd.read_sql(\"SELECT name, MIN(population) population FROM facts  WHERE name<>'Antarctica';\", conn2)\n",
    "max_pop_list = max_pop.values.tolist()[0]\n",
    "min_pop_list = min_pop.values.tolist()[0]\n",
    "print('one)\\n')\n",
    "print('max population belong to', max_pop_list[0], 'with', max_pop_list[1])\n",
    "print('min population belong to', min_pop_list[0], 'with', min_pop_list[1])\n",
    "print('--------------------------------------------------------------\\n')\n",
    "\n",
    "#two\n",
    "max_pop_growth = pd.read_sql(\"SELECT name, MAX(population_growth) FROM facts;\", conn2)\n",
    "max_growth_list = max_pop_growth.values.tolist()[0]\n",
    "print('two)\\n')\n",
    "print('max population growth belong to', max_growth_list[0], 'with', max_growth_list[1])\n",
    "print('--------------------------------------------------------------\\n')\n",
    "\n",
    "#three\n",
    "max_density = pd.read_sql(\"SELECT name, MAX((population / area)) FROM facts;\", conn2)\n",
    "min_density = pd.read_sql(\"SELECT name, MIN(CAST(population AS float) / CAST(area AS float)) FROM facts;\", conn2)\n",
    "max_density_list = max_density.values.tolist()[0]\n",
    "min_density_list = min_density.values.tolist()[0]\n",
    "print('three)\\n')\n",
    "print('max population density belong to', max_density_list[0], 'with', max_density_list[1])\n",
    "print('min population density belong to', min_density_list[0], 'with', min_density_list[1])\n",
    "print('--------------------------------------------------------------\\n')\n",
    "\n",
    "#four\n",
    "top_ten_migr = pd.read_sql(\"SELECT name, migration_rate FROM facts ORDER BY migration_rate DESC LIMIT 10;\", conn2)\n",
    "print('four)\\n')\n",
    "print('top 10 most migration rate belongs to', [tuple(t) for t in top_ten_migr.values.tolist()])\n",
    "print('--------------------------------------------------------------\\n')\n",
    "\n",
    "#five\n",
    "top_five_birth_to_death = pd.read_sql(\"SELECT NAME,(birth_rate/death_rate) FROM facts ORDER BY (birth_rate/death_rate) DESC LIMIT 5;\", conn2)\n",
    "print('five)\\n')\n",
    "print('top 5 most birth_death rate belongs to', [tuple(t) for t in top_five_birth_to_death.values.tolist()])\n"
   ]
  },
  {
   "cell_type": "code",
   "execution_count": 64,
   "id": "192bc177",
   "metadata": {},
   "outputs": [],
   "source": [
    "def sqlite_power(x,n):\n",
    "    return (x)**n\n",
    "\n",
    "#add function to sqlite api\n",
    "conn2.create_function(\"POWER\", 2, sqlite_power)"
   ]
  },
  {
   "cell_type": "code",
   "execution_count": 67,
   "id": "94685098",
   "metadata": {},
   "outputs": [
    {
     "name": "stdout",
     "output_type": "stream",
     "text": [
      "six) \n",
      " \n"
     ]
    },
    {
     "data": {
      "text/plain": [
       "0   -0.101521\n",
       "Name: numerator, dtype: float64"
      ]
     },
     "execution_count": 67,
     "metadata": {},
     "output_type": "execute_result"
    }
   ],
   "source": [
    "numer_df = pd.read_sql(\"\"\"SELECT \n",
    " (COUNT(*)*SUM(death_rate*population_growth)) - (SUM(death_rate)*SUM(population_growth))\n",
    " AS numerator FROM facts WHERE (death_rate IS NOT NULL) AND (population_growth IS NOT NULL);\"\"\", conn2)\n",
    "  \n",
    "denom_df = pd.read_sql(\"\"\"SELECT ABS( ( COUNT(*)*SUM(POWER(death_rate, 2)) ) - POWER(SUM(death_rate), 2) ) *\n",
    " ABS( (COUNT(*)*SUM(POWER(population_growth, 2))) - POWER(SUM(population_growth), 2) )\n",
    " AS denominator FROM facts WHERE (death_rate IS NOT NULL) AND (population_growth IS NOT NULL);\"\"\", conn2)  \n",
    "    \n",
    "denom = denom_df['denominator']\n",
    "numer = numer_df['numerator']\n",
    "print('six) \\n ')\n",
    "numer/math.sqrt(denom)"
   ]
  },
  {
   "cell_type": "markdown",
   "id": "b5bceb20",
   "metadata": {},
   "source": [
    "##### result\n",
    "result is **-0.101** which is a negative correlation (makes sense because more death means less population growth)\n",
    "and the magnitude of correlation is 0.101 which is  considered a **weak correlation**\n",
    "\n",
    "**so death_rate and population growth are weakly correlated**"
   ]
  }
 ],
 "metadata": {
  "kernelspec": {
   "display_name": "Python 3 (ipykernel)",
   "language": "python",
   "name": "python3"
  },
  "language_info": {
   "codemirror_mode": {
    "name": "ipython",
    "version": 3
   },
   "file_extension": ".py",
   "mimetype": "text/x-python",
   "name": "python",
   "nbconvert_exporter": "python",
   "pygments_lexer": "ipython3",
   "version": "3.9.6"
  }
 },
 "nbformat": 4,
 "nbformat_minor": 5
}
